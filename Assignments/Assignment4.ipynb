{
 "cells": [
  {
   "cell_type": "code",
   "execution_count": 1,
   "id": "4726e91f",
   "metadata": {},
   "outputs": [],
   "source": [
    "\n",
    "import json\n",
    "import pandas as pd\n",
    "import numpy as np\n",
    "import matplotlib.pyplot as plt\n",
    "import pymongo\n",
    "import seaborn as sns\n"
   ]
  },
  {
   "cell_type": "code",
   "execution_count": 2,
   "id": "226374b9",
   "metadata": {},
   "outputs": [],
   "source": [
    "def mongoimport(csv_path):\n",
    "    hr_df=pd.read_csv(csv_path)\n",
    "    payload=json.loads(hr_df.to_json(orient=\"records\"))\n",
    "    collection.delete_many({})\n",
    "\n",
    "    collection.insert_many(payload)\n",
    "    \n"
   ]
  },
  {
   "cell_type": "markdown",
   "id": "46241a74",
   "metadata": {},
   "source": [
    "\n",
    "#### a. Create collections “flights” inside database “airline_delayDB”\n"
   ]
  },
  {
   "cell_type": "code",
   "execution_count": 3,
   "id": "16268dc0",
   "metadata": {},
   "outputs": [
    {
     "name": "stdout",
     "output_type": "stream",
     "text": [
      "MongoClient(host=['localhost:27017'], document_class=dict, tz_aware=False, connect=True)\n"
     ]
    }
   ],
   "source": [
    "\n",
    "if __name__ == \"__main__\":\n",
    "    client = pymongo.MongoClient(\"mongodb://localhost:27017\")\n",
    "    print(client)\n",
    "    db=client['Airline_delayDB']\n",
    "    collection=db['Flights']\n",
    "    mongoimport(\"C:/Users/anu/Documents/python programs/Data/Flights_Delay.csv\")\n"
   ]
  },
  {
   "cell_type": "markdown",
   "id": "0000f682",
   "metadata": {},
   "source": [
    "#### b. Average arrival delay caused by airlines"
   ]
  },
  {
   "cell_type": "code",
   "execution_count": 4,
   "id": "5f595c0e",
   "metadata": {},
   "outputs": [
    {
     "name": "stdout",
     "output_type": "stream",
     "text": [
      "Average Arrival Delay: 7.55\n"
     ]
    }
   ],
   "source": [
    "    avg_Arrival_Delay=collection.aggregate([{ '$group' :{'_id' : '$null', 'Avg_Arrival_Delay':{'$avg' : '$ARRIVAL_DELAY'}}}\n",
    "                                    ,{ '$project' : { '_id' : 0 ,}}])\n",
    "    for item in avg_Arrival_Delay:\n",
    "        print(\"Average Arrival Delay:\",np.round(item['Avg_Arrival_Delay'],2))"
   ]
  },
  {
   "cell_type": "markdown",
   "id": "b80d8dbc",
   "metadata": {},
   "source": [
    "#### c. Days of months with respect to average of arrival delays. [Create a suitable plot using matplotlib/seaborn]"
   ]
  },
  {
   "cell_type": "code",
   "execution_count": 5,
   "id": "658351fa",
   "metadata": {
    "scrolled": false
   },
   "outputs": [
    {
     "data": {
      "text/html": [
       "<div>\n",
       "<style scoped>\n",
       "    .dataframe tbody tr th:only-of-type {\n",
       "        vertical-align: middle;\n",
       "    }\n",
       "\n",
       "    .dataframe tbody tr th {\n",
       "        vertical-align: top;\n",
       "    }\n",
       "\n",
       "    .dataframe thead th {\n",
       "        text-align: right;\n",
       "    }\n",
       "</style>\n",
       "<table border=\"1\" class=\"dataframe\">\n",
       "  <thead>\n",
       "    <tr style=\"text-align: right;\">\n",
       "      <th></th>\n",
       "      <th>_id</th>\n",
       "      <th>Avg_Arrival_Delay</th>\n",
       "    </tr>\n",
       "  </thead>\n",
       "  <tbody>\n",
       "    <tr>\n",
       "      <th>0</th>\n",
       "      <td>30</td>\n",
       "      <td>4.471478</td>\n",
       "    </tr>\n",
       "    <tr>\n",
       "      <th>1</th>\n",
       "      <td>12</td>\n",
       "      <td>11.248927</td>\n",
       "    </tr>\n",
       "    <tr>\n",
       "      <th>2</th>\n",
       "      <td>26</td>\n",
       "      <td>11.967783</td>\n",
       "    </tr>\n",
       "    <tr>\n",
       "      <th>3</th>\n",
       "      <td>28</td>\n",
       "      <td>3.257426</td>\n",
       "    </tr>\n",
       "    <tr>\n",
       "      <th>4</th>\n",
       "      <td>22</td>\n",
       "      <td>6.550920</td>\n",
       "    </tr>\n",
       "    <tr>\n",
       "      <th>5</th>\n",
       "      <td>13</td>\n",
       "      <td>3.376975</td>\n",
       "    </tr>\n",
       "    <tr>\n",
       "      <th>6</th>\n",
       "      <td>17</td>\n",
       "      <td>8.761436</td>\n",
       "    </tr>\n",
       "    <tr>\n",
       "      <th>7</th>\n",
       "      <td>23</td>\n",
       "      <td>4.207086</td>\n",
       "    </tr>\n",
       "    <tr>\n",
       "      <th>8</th>\n",
       "      <td>15</td>\n",
       "      <td>2.966754</td>\n",
       "    </tr>\n",
       "    <tr>\n",
       "      <th>9</th>\n",
       "      <td>1</td>\n",
       "      <td>14.807808</td>\n",
       "    </tr>\n",
       "    <tr>\n",
       "      <th>10</th>\n",
       "      <td>7</td>\n",
       "      <td>2.830942</td>\n",
       "    </tr>\n",
       "    <tr>\n",
       "      <th>11</th>\n",
       "      <td>20</td>\n",
       "      <td>3.877015</td>\n",
       "    </tr>\n",
       "    <tr>\n",
       "      <th>12</th>\n",
       "      <td>5</td>\n",
       "      <td>16.238613</td>\n",
       "    </tr>\n",
       "    <tr>\n",
       "      <th>13</th>\n",
       "      <td>6</td>\n",
       "      <td>10.608833</td>\n",
       "    </tr>\n",
       "    <tr>\n",
       "      <th>14</th>\n",
       "      <td>19</td>\n",
       "      <td>1.634428</td>\n",
       "    </tr>\n",
       "    <tr>\n",
       "      <th>15</th>\n",
       "      <td>2</td>\n",
       "      <td>15.046015</td>\n",
       "    </tr>\n",
       "    <tr>\n",
       "      <th>16</th>\n",
       "      <td>16</td>\n",
       "      <td>9.124321</td>\n",
       "    </tr>\n",
       "    <tr>\n",
       "      <th>17</th>\n",
       "      <td>10</td>\n",
       "      <td>-0.047059</td>\n",
       "    </tr>\n",
       "    <tr>\n",
       "      <th>18</th>\n",
       "      <td>27</td>\n",
       "      <td>4.706711</td>\n",
       "    </tr>\n",
       "    <tr>\n",
       "      <th>19</th>\n",
       "      <td>18</td>\n",
       "      <td>3.569343</td>\n",
       "    </tr>\n",
       "    <tr>\n",
       "      <th>20</th>\n",
       "      <td>3</td>\n",
       "      <td>18.141541</td>\n",
       "    </tr>\n",
       "    <tr>\n",
       "      <th>21</th>\n",
       "      <td>4</td>\n",
       "      <td>17.157791</td>\n",
       "    </tr>\n",
       "    <tr>\n",
       "      <th>22</th>\n",
       "      <td>29</td>\n",
       "      <td>0.079710</td>\n",
       "    </tr>\n",
       "    <tr>\n",
       "      <th>23</th>\n",
       "      <td>9</td>\n",
       "      <td>4.421887</td>\n",
       "    </tr>\n",
       "    <tr>\n",
       "      <th>24</th>\n",
       "      <td>25</td>\n",
       "      <td>4.903709</td>\n",
       "    </tr>\n",
       "    <tr>\n",
       "      <th>25</th>\n",
       "      <td>11</td>\n",
       "      <td>3.991294</td>\n",
       "    </tr>\n",
       "    <tr>\n",
       "      <th>26</th>\n",
       "      <td>8</td>\n",
       "      <td>5.232349</td>\n",
       "    </tr>\n",
       "    <tr>\n",
       "      <th>27</th>\n",
       "      <td>21</td>\n",
       "      <td>6.919861</td>\n",
       "    </tr>\n",
       "    <tr>\n",
       "      <th>28</th>\n",
       "      <td>31</td>\n",
       "      <td>-1.196594</td>\n",
       "    </tr>\n",
       "    <tr>\n",
       "      <th>29</th>\n",
       "      <td>24</td>\n",
       "      <td>5.737544</td>\n",
       "    </tr>\n",
       "    <tr>\n",
       "      <th>30</th>\n",
       "      <td>14</td>\n",
       "      <td>1.329932</td>\n",
       "    </tr>\n",
       "  </tbody>\n",
       "</table>\n",
       "</div>"
      ],
      "text/plain": [
       "    _id  Avg_Arrival_Delay\n",
       "0    30           4.471478\n",
       "1    12          11.248927\n",
       "2    26          11.967783\n",
       "3    28           3.257426\n",
       "4    22           6.550920\n",
       "5    13           3.376975\n",
       "6    17           8.761436\n",
       "7    23           4.207086\n",
       "8    15           2.966754\n",
       "9     1          14.807808\n",
       "10    7           2.830942\n",
       "11   20           3.877015\n",
       "12    5          16.238613\n",
       "13    6          10.608833\n",
       "14   19           1.634428\n",
       "15    2          15.046015\n",
       "16   16           9.124321\n",
       "17   10          -0.047059\n",
       "18   27           4.706711\n",
       "19   18           3.569343\n",
       "20    3          18.141541\n",
       "21    4          17.157791\n",
       "22   29           0.079710\n",
       "23    9           4.421887\n",
       "24   25           4.903709\n",
       "25   11           3.991294\n",
       "26    8           5.232349\n",
       "27   21           6.919861\n",
       "28   31          -1.196594\n",
       "29   24           5.737544\n",
       "30   14           1.329932"
      ]
     },
     "metadata": {},
     "output_type": "display_data"
    },
    {
     "data": {
      "image/png": "[encoded data removed]",
      "text/plain": [
       "<Figure size 720x576 with 1 Axes>"
      ]
     },
     "metadata": {
      "needs_background": "light"
     },
     "output_type": "display_data"
    }
   ],
   "source": [
    "    avg_Arrival_Delay=collection.aggregate([{ '$group' :{'_id' : '$DAY', 'Avg_Arrival_Delay':{'$avg' : '$ARRIVAL_DELAY'}}}])   \n",
    "    df=pd.DataFrame(avg_Arrival_Delay)\n",
    "    display(df)  \n",
    "    \n",
    "    plt.figure(figsize = (10,8))\n",
    "    sns.barplot(x=df['_id'],y=df['Avg_Arrival_Delay'])\n",
    "    plt.xticks(rotation = 90)\n",
    "    plt.show()\n",
    "\n"
   ]
  },
  {
   "cell_type": "markdown",
   "id": "8508eb05",
   "metadata": {},
   "source": [
    "#### d.Arrange weekdays with respect to the average arrival delays caused. [Create a suitable plot using matplotlib/seaborn]"
   ]
  },
  {
   "cell_type": "code",
   "execution_count": 6,
   "id": "ca964e78",
   "metadata": {},
   "outputs": [
    {
     "name": "stdout",
     "output_type": "stream",
     "text": [
      "   _id  Avg_Arrival_Delay\n",
      "0    3           5.587079\n",
      "1    2           8.033644\n",
      "2    1          10.807447\n",
      "3    4           7.174969\n",
      "4    7          10.110840\n",
      "5    5           6.010538\n",
      "6    6           4.888689\n"
     ]
    },
    {
     "data": {
      "image/png": "[encoded data removed]",
      "text/plain": [
       "<Figure size 432x288 with 1 Axes>"
      ]
     },
     "metadata": {
      "needs_background": "light"
     },
     "output_type": "display_data"
    }
   ],
   "source": [
    "    avg_Arrival_Delay=collection.aggregate([{ '$group' :{'_id' : '$DAY_OF_WEEK', 'Avg_Arrival_Delay':{'$avg' : '$ARRIVAL_DELAY'}}}])   \n",
    "    df=pd.DataFrame(avg_Arrival_Delay)\n",
    "    print(df)\n",
    "    plt.bar(df['_id'], df['Avg_Arrival_Delay'],color='orange')\n",
    "    plt.show()"
   ]
  },
  {
   "cell_type": "markdown",
   "id": "b45d65a4",
   "metadata": {},
   "source": [
    "#### e.Arrange Days of month as per cancellations done in descending order.  [Create a suitable plot using matplotlib/seaborn]"
   ]
  },
  {
   "cell_type": "code",
   "execution_count": 7,
   "id": "ab5b80cb",
   "metadata": {},
   "outputs": [
    {
     "name": "stdout",
     "output_type": "stream",
     "text": [
      "    _id  Cancellation\n",
      "0    31             9\n",
      "1    30             7\n",
      "2    29             3\n",
      "3    28            98\n",
      "4    27           185\n",
      "5    26           114\n",
      "6    25            61\n",
      "7    24            57\n",
      "8    23            69\n",
      "9    22            41\n",
      "10   21            61\n",
      "11   20            21\n",
      "12   19             9\n",
      "13   18            14\n",
      "14   17            59\n",
      "15   16            63\n",
      "16   15            83\n",
      "17   14            30\n",
      "18   13            14\n",
      "19   12            20\n",
      "20   11            24\n",
      "21   10            27\n",
      "22    9            89\n",
      "23    8            61\n",
      "24    7            31\n",
      "25    6            53\n",
      "26    5           215\n",
      "27    4           113\n",
      "28    3            88\n",
      "29    2           195\n",
      "30    1           237\n"
     ]
    },
    {
     "data": {
      "image/png": "[encoded data removed]",
      "text/plain": [
       "<Figure size 720x576 with 1 Axes>"
      ]
     },
     "metadata": {
      "needs_background": "light"
     },
     "output_type": "display_data"
    }
   ],
   "source": [
    "    cancellation=collection.aggregate([{ '$match':{'CANCELLED':1}},\n",
    "                                       { '$group' :{'_id' : '$DAY', 'Cancellation':{'$count' : {}}}},\n",
    "                                       { '$sort':{\"_id\":-1}}])   \n",
    "    df=pd.DataFrame(cancellation)\n",
    "    print(df)\n",
    " \n",
    "    plt.figure(figsize = (10,8))\n",
    "    sns.barplot(x=df['_id'],y=df['Cancellation'])\n",
    "    plt.show()"
   ]
  },
  {
   "cell_type": "markdown",
   "id": "e87f5444",
   "metadata": {},
   "source": [
    "#### f.Find the busiest airports with respect to day of week. Create a suitable plot using matplotlib/seaborn."
   ]
  },
  {
   "cell_type": "code",
   "execution_count": 8,
   "id": "11ca9ff2",
   "metadata": {},
   "outputs": [
    {
     "name": "stdout",
     "output_type": "stream",
     "text": [
      "   _id  count\n",
      "0    1   8539\n",
      "1    2   7785\n",
      "2    3   7684\n",
      "3    4   8395\n",
      "4    5   8886\n",
      "5    6   6884\n",
      "6    7   7827\n"
     ]
    },
    {
     "data": {
      "image/png": "[encoded data removed]",
      "text/plain": [
       "<Figure size 432x288 with 1 Axes>"
      ]
     },
     "metadata": {
      "needs_background": "light"
     },
     "output_type": "display_data"
    }
   ],
   "source": [
    "busy_count=collection.aggregate([{'$group':{'_id':'$DAY_OF_WEEK','count':{'$count':{}}}},\n",
    "                                            {'$sort':{'_id':1}}])\n",
    "    \n",
    "\n",
    "                                            \n",
    "df=pd.DataFrame(busy_count)\n",
    "print(df)\n",
    "sns.barplot(x=df['_id'],y=df['count'])\n",
    "plt.xlabel('Day of week')\n",
    "plt.show()"
   ]
  },
  {
   "cell_type": "markdown",
   "id": "0597290d",
   "metadata": {},
   "source": [
    "#### g.Find top 10 Airlines of US. Create a suitable plot using matplotlib/seaborn."
   ]
  },
  {
   "cell_type": "code",
   "execution_count": 9,
   "id": "137b322b",
   "metadata": {},
   "outputs": [
    {
     "data": {
      "text/plain": [
       "0    1898\n",
       "1    1735\n",
       "2     628\n",
       "3    1810\n",
       "4     695\n",
       "5    1727\n",
       "6    1942\n",
       "7     496\n",
       "8     629\n",
       "9    1760\n",
       "Name: _id, dtype: int64"
      ]
     },
     "metadata": {},
     "output_type": "display_data"
    },
    {
     "data": {
      "text/plain": [
       "<AxesSubplot: xlabel='_id', ylabel='count'>"
      ]
     },
     "execution_count": 9,
     "metadata": {},
     "output_type": "execute_result"
    },
    {
     "data": {
      "image/png": "[encoded data removed]",
      "text/plain": [
       "<Figure size 432x288 with 1 Axes>"
      ]
     },
     "metadata": {
      "needs_background": "light"
     },
     "output_type": "display_data"
    }
   ],
   "source": [
    "    airlines_us=collection.aggregate([{ '$match':{'AIRLINE':\"US\"}},\n",
    "                                            {'$group' :{'_id' : '$FLIGHT_NUMBER', 'count':{'$count' : {}}}},\n",
    "                                            {'$sort':{'count':-1}},\n",
    "                                            {'$limit':10}]) \n",
    "    \n",
    "    df=pd.DataFrame(airlines_us)\n",
    "    display(df['_id'])\n",
    "    sns.barplot(x=df['_id'],y=df['count'])\n",
    "#     plt.bar(df[\"_id\"].apply(str),df[\"count\"],color='orangered')\n",
    "\n",
    "        "
   ]
  },
  {
   "cell_type": "markdown",
   "id": "0fb2b1b8",
   "metadata": {},
   "source": [
    "#### h.Finding airlines that make the maximum, minimum number of cancellations."
   ]
  },
  {
   "cell_type": "code",
   "execution_count": 10,
   "id": "69416149",
   "metadata": {
    "scrolled": true
   },
   "outputs": [
    {
     "name": "stdout",
     "output_type": "stream",
     "text": [
      "Airline  MQ  make maximum number of cancellation:  414\n",
      "Airline  HA  make minimum number of cancellation:  3\n"
     ]
    }
   ],
   "source": [
    "    max_cancel=collection.aggregate([{'$match':{'CANCELLED':1}},\n",
    "                                     {'$group' :{'_id' : '$AIRLINE', 'count':{'$count':{}}}},\n",
    "                                     {'$sort':{'count':-1}},\n",
    "                                     {'$limit':1}]) \n",
    "    for item in max_cancel:\n",
    "        print(\"Airline \",item['_id'],\" make maximum number of cancellation: \",item['count'])\n",
    "\n",
    "    min_cancel=collection.aggregate([{'$match':{'CANCELLED':1}},\n",
    "                                     {'$group' :{'_id' : '$AIRLINE', 'count':{'$count':{}}}},\n",
    "                                     {'$sort':{'count':1}},\n",
    "                                     {'$limit':1} ])\n",
    "    for item in min_cancel:\n",
    "        print(\"Airline \",item['_id'],\" make minimum number of cancellation: \",item['count'])"
   ]
  },
  {
   "cell_type": "markdown",
   "id": "75642a76",
   "metadata": {},
   "source": [
    "#### i.Find and show airlines names in descending that make the most number of diversions made. [Create a suitable plot using matplotlib/seaborn]"
   ]
  },
  {
   "cell_type": "code",
   "execution_count": 11,
   "id": "252de6da",
   "metadata": {
    "scrolled": true
   },
   "outputs": [
    {
     "data": {
      "text/html": [
       "<div>\n",
       "<style scoped>\n",
       "    .dataframe tbody tr th:only-of-type {\n",
       "        vertical-align: middle;\n",
       "    }\n",
       "\n",
       "    .dataframe tbody tr th {\n",
       "        vertical-align: top;\n",
       "    }\n",
       "\n",
       "    .dataframe thead th {\n",
       "        text-align: right;\n",
       "    }\n",
       "</style>\n",
       "<table border=\"1\" class=\"dataframe\">\n",
       "  <thead>\n",
       "    <tr style=\"text-align: right;\">\n",
       "      <th></th>\n",
       "      <th>_id</th>\n",
       "      <th>count</th>\n",
       "    </tr>\n",
       "  </thead>\n",
       "  <tbody>\n",
       "    <tr>\n",
       "      <th>0</th>\n",
       "      <td>WN</td>\n",
       "      <td>35</td>\n",
       "    </tr>\n",
       "    <tr>\n",
       "      <th>1</th>\n",
       "      <td>OO</td>\n",
       "      <td>25</td>\n",
       "    </tr>\n",
       "    <tr>\n",
       "      <th>2</th>\n",
       "      <td>EV</td>\n",
       "      <td>22</td>\n",
       "    </tr>\n",
       "    <tr>\n",
       "      <th>3</th>\n",
       "      <td>DL</td>\n",
       "      <td>18</td>\n",
       "    </tr>\n",
       "    <tr>\n",
       "      <th>4</th>\n",
       "      <td>B6</td>\n",
       "      <td>16</td>\n",
       "    </tr>\n",
       "    <tr>\n",
       "      <th>5</th>\n",
       "      <td>AA</td>\n",
       "      <td>12</td>\n",
       "    </tr>\n",
       "    <tr>\n",
       "      <th>6</th>\n",
       "      <td>US</td>\n",
       "      <td>9</td>\n",
       "    </tr>\n",
       "    <tr>\n",
       "      <th>7</th>\n",
       "      <td>UA</td>\n",
       "      <td>8</td>\n",
       "    </tr>\n",
       "    <tr>\n",
       "      <th>8</th>\n",
       "      <td>MQ</td>\n",
       "      <td>5</td>\n",
       "    </tr>\n",
       "    <tr>\n",
       "      <th>9</th>\n",
       "      <td>HA</td>\n",
       "      <td>1</td>\n",
       "    </tr>\n",
       "  </tbody>\n",
       "</table>\n",
       "</div>"
      ],
      "text/plain": [
       "  _id  count\n",
       "0  WN     35\n",
       "1  OO     25\n",
       "2  EV     22\n",
       "3  DL     18\n",
       "4  B6     16\n",
       "5  AA     12\n",
       "6  US      9\n",
       "7  UA      8\n",
       "8  MQ      5\n",
       "9  HA      1"
      ]
     },
     "metadata": {},
     "output_type": "display_data"
    },
    {
     "data": {
      "text/plain": [
       "<BarContainer object of 10 artists>"
      ]
     },
     "execution_count": 11,
     "metadata": {},
     "output_type": "execute_result"
    },
    {
     "data": {
      "image/png": "[encoded data removed]",
      "text/plain": [
       "<Figure size 432x288 with 1 Axes>"
      ]
     },
     "metadata": {
      "needs_background": "light"
     },
     "output_type": "display_data"
    }
   ],
   "source": [
    "    max_div=collection.aggregate([{'$match':{'DIVERTED':1}},\n",
    "                                     {'$group' :{'_id' : '$AIRLINE', 'count':{'$count':{}}}},\n",
    "                                     {'$sort':{'count':-1}}]) \n",
    "\n",
    "    \n",
    "    df=pd.DataFrame(max_div)\n",
    "    display(df)\n",
    "    plt.bar(df['_id'], df['count'],color='teal')\n",
    "    \n",
    "    "
   ]
  },
  {
   "cell_type": "markdown",
   "id": "9c436cba",
   "metadata": {},
   "source": [
    "####  j.Finding days of month that see the most number of diversion"
   ]
  },
  {
   "cell_type": "code",
   "execution_count": 12,
   "id": "7c9518d6",
   "metadata": {},
   "outputs": [
    {
     "name": "stdout",
     "output_type": "stream",
     "text": [
      "Day of month: 2 \n",
      "Number of Division: 15\n"
     ]
    }
   ],
   "source": [
    "    max_div=collection.aggregate([{'$match':{'DIVERTED':1}},\n",
    "                                     {'$group' :{'_id' : '$DAY', 'count':{'$count':{}}}},\n",
    "                                     {'$sort':{'count':-1}},\n",
    "                                 {'$limit':1}]) \n",
    "    for item in max_div:\n",
    "        print(\"Day of month:\",item['_id'] ,\"\\nNumber of Division:\",item['count'])"
   ]
  },
  {
   "cell_type": "markdown",
   "id": "529c69fe",
   "metadata": {},
   "source": [
    "#### k.Calculating mean and standard deviation of departure delay for all flights in minutes"
   ]
  },
  {
   "cell_type": "code",
   "execution_count": 13,
   "id": "edbb3e5d",
   "metadata": {},
   "outputs": [
    {
     "name": "stdout",
     "output_type": "stream",
     "text": [
      "Mean of Departure delay: 11.329091145205275\n",
      "Standard Deviation of Departure delay: 39.62091603371564\n"
     ]
    }
   ],
   "source": [
    "    #Method 1\n",
    "    depart_delay=collection.find({},{\"DEPARTURE_DELAY\":1})\n",
    "    df=pd.DataFrame(depart_delay)\n",
    "    #display(df)\n",
    "    print(\"Mean of Departure delay:\",df['DEPARTURE_DELAY'].mean())\n",
    "    print(\"Standard Deviation of Departure delay:\",df['DEPARTURE_DELAY'].std())"
   ]
  },
  {
   "cell_type": "code",
   "execution_count": 14,
   "id": "a0fda29f",
   "metadata": {},
   "outputs": [
    {
     "name": "stdout",
     "output_type": "stream",
     "text": [
      "Mean of Departure delay: 11.329091145205275\n",
      "Standard Deviation of Departure delay: 39.620548511500886\n"
     ]
    }
   ],
   "source": [
    "    #Method 2\n",
    "    depart_delay=collection.aggregate([{'$group' :{'_id' : '$null', 'std':{'$stdDevPop':'$DEPARTURE_DELAY'},'mean':{'$avg':'$DEPARTURE_DELAY'}}}]) \n",
    "    for i in depart_delay:\n",
    "        print(\"Mean of Departure delay:\",i['mean'])\n",
    "        print(\"Standard Deviation of Departure delay:\",i['std'])"
   ]
  },
  {
   "cell_type": "markdown",
   "id": "1ba25e2d",
   "metadata": {},
   "source": [
    "#### l.Calculating mean and standard deviation of arrival delay for all flights in minutes"
   ]
  },
  {
   "cell_type": "code",
   "execution_count": 15,
   "id": "c749f3f8",
   "metadata": {},
   "outputs": [
    {
     "name": "stdout",
     "output_type": "stream",
     "text": [
      "Mean of arrival_delay: 7.545457931394093\n",
      "Standard deviation of arrival_delay: 42.378385824632446\n"
     ]
    }
   ],
   "source": [
    "    #Method 1\n",
    "    arrival_delay=collection.find({},{\"ARRIVAL_DELAY\":1})\n",
    "    df=pd.DataFrame(arrival_delay)\n",
    "    print(\"Mean of arrival_delay:\",df['ARRIVAL_DELAY'].mean())\n",
    "    print(\"Standard deviation of arrival_delay:\",df['ARRIVAL_DELAY'].std())\n"
   ]
  },
  {
   "cell_type": "code",
   "execution_count": 16,
   "id": "56bf6aac",
   "metadata": {},
   "outputs": [
    {
     "name": "stdout",
     "output_type": "stream",
     "text": [
      "Mean of arrival_delay: 7.545457931394093\n",
      "Standard deviation of arrival_delay: 42.37799122350079\n"
     ]
    }
   ],
   "source": [
    "    #Method 2\n",
    "    arrival_delay=collection.aggregate([{'$group' :{'_id' : '$null', 'std':{'$stdDevPop':'$ARRIVAL_DELAY'},'mean':{'$avg':'$ARRIVAL_DELAY'}}}]) \n",
    "    for i in arrival_delay:\n",
    "        print(\"Mean of arrival_delay:\",i['mean'])\n",
    "        print(\"Standard deviation of arrival_delay:\",i['std'])"
   ]
  },
  {
   "cell_type": "markdown",
   "id": "5c70b682",
   "metadata": {},
   "source": [
    "#### m.Create a partitioning table “flights_partition” using partitioned by schema “CANCELLED”"
   ]
  },
  {
   "cell_type": "code",
   "execution_count": 17,
   "id": "757df581",
   "metadata": {},
   "outputs": [
    {
     "data": {
      "text/html": [
       "<div>\n",
       "<style scoped>\n",
       "    .dataframe tbody tr th:only-of-type {\n",
       "        vertical-align: middle;\n",
       "    }\n",
       "\n",
       "    .dataframe tbody tr th {\n",
       "        vertical-align: top;\n",
       "    }\n",
       "\n",
       "    .dataframe thead th {\n",
       "        text-align: right;\n",
       "    }\n",
       "</style>\n",
       "<table border=\"1\" class=\"dataframe\">\n",
       "  <thead>\n",
       "    <tr style=\"text-align: right;\">\n",
       "      <th></th>\n",
       "      <th>_id</th>\n",
       "      <th>ID</th>\n",
       "      <th>YEAR</th>\n",
       "      <th>MONTH</th>\n",
       "      <th>DAY</th>\n",
       "      <th>DAY_OF_WEEK</th>\n",
       "      <th>AIRLINE</th>\n",
       "      <th>FLIGHT_NUMBER</th>\n",
       "      <th>TAIL_NUMBER</th>\n",
       "      <th>ORIGIN_AIRPORT</th>\n",
       "      <th>...</th>\n",
       "      <th>ARRIVAL_TIME</th>\n",
       "      <th>ARRIVAL_DELAY</th>\n",
       "      <th>DIVERTED</th>\n",
       "      <th>CANCELLED</th>\n",
       "      <th>CANCELLATION_REASON</th>\n",
       "      <th>AIR_SYSTEM_DELAY</th>\n",
       "      <th>SECURITY_DELAY</th>\n",
       "      <th>AIRLINE_DELAY</th>\n",
       "      <th>LATE_AIRCRAFT_DELAY</th>\n",
       "      <th>WEATHER_DELAY</th>\n",
       "    </tr>\n",
       "  </thead>\n",
       "  <tbody>\n",
       "    <tr>\n",
       "      <th>0</th>\n",
       "      <td>636511baf4b253c460e1a4bb</td>\n",
       "      <td>64</td>\n",
       "      <td>2015</td>\n",
       "      <td>2</td>\n",
       "      <td>2</td>\n",
       "      <td>1</td>\n",
       "      <td>EV</td>\n",
       "      <td>6172</td>\n",
       "      <td>N12145</td>\n",
       "      <td>MLI</td>\n",
       "      <td>...</td>\n",
       "      <td>None</td>\n",
       "      <td>None</td>\n",
       "      <td>0</td>\n",
       "      <td>1</td>\n",
       "      <td>C</td>\n",
       "      <td>None</td>\n",
       "      <td>None</td>\n",
       "      <td>None</td>\n",
       "      <td>None</td>\n",
       "      <td>None</td>\n",
       "    </tr>\n",
       "    <tr>\n",
       "      <th>1</th>\n",
       "      <td>636511baf4b253c460e1a4d0</td>\n",
       "      <td>85</td>\n",
       "      <td>2015</td>\n",
       "      <td>1</td>\n",
       "      <td>27</td>\n",
       "      <td>2</td>\n",
       "      <td>WN</td>\n",
       "      <td>3131</td>\n",
       "      <td>N8631A</td>\n",
       "      <td>BWI</td>\n",
       "      <td>...</td>\n",
       "      <td>None</td>\n",
       "      <td>None</td>\n",
       "      <td>0</td>\n",
       "      <td>1</td>\n",
       "      <td>B</td>\n",
       "      <td>None</td>\n",
       "      <td>None</td>\n",
       "      <td>None</td>\n",
       "      <td>None</td>\n",
       "      <td>None</td>\n",
       "    </tr>\n",
       "    <tr>\n",
       "      <th>2</th>\n",
       "      <td>636511baf4b253c460e1a56c</td>\n",
       "      <td>241</td>\n",
       "      <td>2015</td>\n",
       "      <td>3</td>\n",
       "      <td>6</td>\n",
       "      <td>5</td>\n",
       "      <td>DL</td>\n",
       "      <td>414</td>\n",
       "      <td>N721TW</td>\n",
       "      <td>SFO</td>\n",
       "      <td>...</td>\n",
       "      <td>None</td>\n",
       "      <td>None</td>\n",
       "      <td>0</td>\n",
       "      <td>1</td>\n",
       "      <td>B</td>\n",
       "      <td>None</td>\n",
       "      <td>None</td>\n",
       "      <td>None</td>\n",
       "      <td>None</td>\n",
       "      <td>None</td>\n",
       "    </tr>\n",
       "    <tr>\n",
       "      <th>3</th>\n",
       "      <td>636511baf4b253c460e1a578</td>\n",
       "      <td>253</td>\n",
       "      <td>2015</td>\n",
       "      <td>2</td>\n",
       "      <td>23</td>\n",
       "      <td>1</td>\n",
       "      <td>AA</td>\n",
       "      <td>371</td>\n",
       "      <td>None</td>\n",
       "      <td>DFW</td>\n",
       "      <td>...</td>\n",
       "      <td>None</td>\n",
       "      <td>None</td>\n",
       "      <td>0</td>\n",
       "      <td>1</td>\n",
       "      <td>B</td>\n",
       "      <td>None</td>\n",
       "      <td>None</td>\n",
       "      <td>None</td>\n",
       "      <td>None</td>\n",
       "      <td>None</td>\n",
       "    </tr>\n",
       "    <tr>\n",
       "      <th>4</th>\n",
       "      <td>636511baf4b253c460e1a587</td>\n",
       "      <td>268</td>\n",
       "      <td>2015</td>\n",
       "      <td>2</td>\n",
       "      <td>18</td>\n",
       "      <td>3</td>\n",
       "      <td>MQ</td>\n",
       "      <td>3382</td>\n",
       "      <td>N527MQ</td>\n",
       "      <td>LGA</td>\n",
       "      <td>...</td>\n",
       "      <td>None</td>\n",
       "      <td>None</td>\n",
       "      <td>0</td>\n",
       "      <td>1</td>\n",
       "      <td>B</td>\n",
       "      <td>None</td>\n",
       "      <td>None</td>\n",
       "      <td>None</td>\n",
       "      <td>None</td>\n",
       "      <td>None</td>\n",
       "    </tr>\n",
       "    <tr>\n",
       "      <th>...</th>\n",
       "      <td>...</td>\n",
       "      <td>...</td>\n",
       "      <td>...</td>\n",
       "      <td>...</td>\n",
       "      <td>...</td>\n",
       "      <td>...</td>\n",
       "      <td>...</td>\n",
       "      <td>...</td>\n",
       "      <td>...</td>\n",
       "      <td>...</td>\n",
       "      <td>...</td>\n",
       "      <td>...</td>\n",
       "      <td>...</td>\n",
       "      <td>...</td>\n",
       "      <td>...</td>\n",
       "      <td>...</td>\n",
       "      <td>...</td>\n",
       "      <td>...</td>\n",
       "      <td>...</td>\n",
       "      <td>...</td>\n",
       "      <td>...</td>\n",
       "    </tr>\n",
       "    <tr>\n",
       "      <th>2146</th>\n",
       "      <td>636511baf4b253c460e27ec1</td>\n",
       "      <td>55878</td>\n",
       "      <td>2015</td>\n",
       "      <td>3</td>\n",
       "      <td>4</td>\n",
       "      <td>3</td>\n",
       "      <td>MQ</td>\n",
       "      <td>3463</td>\n",
       "      <td>N524MQ</td>\n",
       "      <td>LGA</td>\n",
       "      <td>...</td>\n",
       "      <td>None</td>\n",
       "      <td>None</td>\n",
       "      <td>0</td>\n",
       "      <td>1</td>\n",
       "      <td>B</td>\n",
       "      <td>None</td>\n",
       "      <td>None</td>\n",
       "      <td>None</td>\n",
       "      <td>None</td>\n",
       "      <td>None</td>\n",
       "    </tr>\n",
       "    <tr>\n",
       "      <th>2147</th>\n",
       "      <td>636511baf4b253c460e27ed3</td>\n",
       "      <td>55896</td>\n",
       "      <td>2015</td>\n",
       "      <td>2</td>\n",
       "      <td>25</td>\n",
       "      <td>3</td>\n",
       "      <td>AA</td>\n",
       "      <td>1233</td>\n",
       "      <td>N3BEAA</td>\n",
       "      <td>BOS</td>\n",
       "      <td>...</td>\n",
       "      <td>None</td>\n",
       "      <td>None</td>\n",
       "      <td>0</td>\n",
       "      <td>1</td>\n",
       "      <td>A</td>\n",
       "      <td>None</td>\n",
       "      <td>None</td>\n",
       "      <td>None</td>\n",
       "      <td>None</td>\n",
       "      <td>None</td>\n",
       "    </tr>\n",
       "    <tr>\n",
       "      <th>2148</th>\n",
       "      <td>636511baf4b253c460e27ef7</td>\n",
       "      <td>55932</td>\n",
       "      <td>2015</td>\n",
       "      <td>2</td>\n",
       "      <td>24</td>\n",
       "      <td>2</td>\n",
       "      <td>MQ</td>\n",
       "      <td>3623</td>\n",
       "      <td>N607MQ</td>\n",
       "      <td>DFW</td>\n",
       "      <td>...</td>\n",
       "      <td>None</td>\n",
       "      <td>None</td>\n",
       "      <td>0</td>\n",
       "      <td>1</td>\n",
       "      <td>B</td>\n",
       "      <td>None</td>\n",
       "      <td>None</td>\n",
       "      <td>None</td>\n",
       "      <td>None</td>\n",
       "      <td>None</td>\n",
       "    </tr>\n",
       "    <tr>\n",
       "      <th>2149</th>\n",
       "      <td>636511baf4b253c460e27f1f</td>\n",
       "      <td>55972</td>\n",
       "      <td>2015</td>\n",
       "      <td>1</td>\n",
       "      <td>12</td>\n",
       "      <td>1</td>\n",
       "      <td>EV</td>\n",
       "      <td>5065</td>\n",
       "      <td>N974EV</td>\n",
       "      <td>SGF</td>\n",
       "      <td>...</td>\n",
       "      <td>None</td>\n",
       "      <td>None</td>\n",
       "      <td>0</td>\n",
       "      <td>1</td>\n",
       "      <td>B</td>\n",
       "      <td>None</td>\n",
       "      <td>None</td>\n",
       "      <td>None</td>\n",
       "      <td>None</td>\n",
       "      <td>None</td>\n",
       "    </tr>\n",
       "    <tr>\n",
       "      <th>2150</th>\n",
       "      <td>636511baf4b253c460e27f3a</td>\n",
       "      <td>55999</td>\n",
       "      <td>2015</td>\n",
       "      <td>2</td>\n",
       "      <td>25</td>\n",
       "      <td>3</td>\n",
       "      <td>US</td>\n",
       "      <td>499</td>\n",
       "      <td>None</td>\n",
       "      <td>MIA</td>\n",
       "      <td>...</td>\n",
       "      <td>None</td>\n",
       "      <td>None</td>\n",
       "      <td>0</td>\n",
       "      <td>1</td>\n",
       "      <td>B</td>\n",
       "      <td>None</td>\n",
       "      <td>None</td>\n",
       "      <td>None</td>\n",
       "      <td>None</td>\n",
       "      <td>None</td>\n",
       "    </tr>\n",
       "  </tbody>\n",
       "</table>\n",
       "<p>2151 rows × 33 columns</p>\n",
       "</div>"
      ],
      "text/plain": [
       "                           _id     ID  YEAR  MONTH  DAY  DAY_OF_WEEK AIRLINE  \\\n",
       "0     636511baf4b253c460e1a4bb     64  2015      2    2            1      EV   \n",
       "1     636511baf4b253c460e1a4d0     85  2015      1   27            2      WN   \n",
       "2     636511baf4b253c460e1a56c    241  2015      3    6            5      DL   \n",
       "3     636511baf4b253c460e1a578    253  2015      2   23            1      AA   \n",
       "4     636511baf4b253c460e1a587    268  2015      2   18            3      MQ   \n",
       "...                        ...    ...   ...    ...  ...          ...     ...   \n",
       "2146  636511baf4b253c460e27ec1  55878  2015      3    4            3      MQ   \n",
       "2147  636511baf4b253c460e27ed3  55896  2015      2   25            3      AA   \n",
       "2148  636511baf4b253c460e27ef7  55932  2015      2   24            2      MQ   \n",
       "2149  636511baf4b253c460e27f1f  55972  2015      1   12            1      EV   \n",
       "2150  636511baf4b253c460e27f3a  55999  2015      2   25            3      US   \n",
       "\n",
       "      FLIGHT_NUMBER TAIL_NUMBER ORIGIN_AIRPORT  ... ARRIVAL_TIME  \\\n",
       "0              6172      N12145            MLI  ...         None   \n",
       "1              3131      N8631A            BWI  ...         None   \n",
       "2               414      N721TW            SFO  ...         None   \n",
       "3               371        None            DFW  ...         None   \n",
       "4              3382      N527MQ            LGA  ...         None   \n",
       "...             ...         ...            ...  ...          ...   \n",
       "2146           3463      N524MQ            LGA  ...         None   \n",
       "2147           1233      N3BEAA            BOS  ...         None   \n",
       "2148           3623      N607MQ            DFW  ...         None   \n",
       "2149           5065      N974EV            SGF  ...         None   \n",
       "2150            499        None            MIA  ...         None   \n",
       "\n",
       "      ARRIVAL_DELAY  DIVERTED  CANCELLED  CANCELLATION_REASON  \\\n",
       "0              None         0          1                    C   \n",
       "1              None         0          1                    B   \n",
       "2              None         0          1                    B   \n",
       "3              None         0          1                    B   \n",
       "4              None         0          1                    B   \n",
       "...             ...       ...        ...                  ...   \n",
       "2146           None         0          1                    B   \n",
       "2147           None         0          1                    A   \n",
       "2148           None         0          1                    B   \n",
       "2149           None         0          1                    B   \n",
       "2150           None         0          1                    B   \n",
       "\n",
       "      AIR_SYSTEM_DELAY  SECURITY_DELAY AIRLINE_DELAY LATE_AIRCRAFT_DELAY  \\\n",
       "0                 None            None          None                None   \n",
       "1                 None            None          None                None   \n",
       "2                 None            None          None                None   \n",
       "3                 None            None          None                None   \n",
       "4                 None            None          None                None   \n",
       "...                ...             ...           ...                 ...   \n",
       "2146              None            None          None                None   \n",
       "2147              None            None          None                None   \n",
       "2148              None            None          None                None   \n",
       "2149              None            None          None                None   \n",
       "2150              None            None          None                None   \n",
       "\n",
       "      WEATHER_DELAY  \n",
       "0              None  \n",
       "1              None  \n",
       "2              None  \n",
       "3              None  \n",
       "4              None  \n",
       "...             ...  \n",
       "2146           None  \n",
       "2147           None  \n",
       "2148           None  \n",
       "2149           None  \n",
       "2150           None  \n",
       "\n",
       "[2151 rows x 33 columns]"
      ]
     },
     "execution_count": 17,
     "metadata": {},
     "output_type": "execute_result"
    }
   ],
   "source": [
    "data=collection.find({'CANCELLED':{'$eq':1}}) \n",
    "df=pd.DataFrame(data)\n",
    "df"
   ]
  },
  {
   "cell_type": "markdown",
   "id": "de3bd850",
   "metadata": {},
   "source": [
    "#### n.Finding all diverted Route from a source to destination Airport & which route is the most diverted route."
   ]
  },
  {
   "cell_type": "code",
   "execution_count": 18,
   "id": "5fab2c34",
   "metadata": {},
   "outputs": [
    {
     "name": "stdout",
     "output_type": "stream",
     "text": [
      "Diverted Route from a source to destination Airport \n",
      " 0      {'ORIGIN_AIRPORT': 'JFK', 'DESTINATION_AIRPORT...\n",
      "1      {'ORIGIN_AIRPORT': 'HOU', 'DESTINATION_AIRPORT...\n",
      "2      {'ORIGIN_AIRPORT': 'IAH', 'DESTINATION_AIRPORT...\n",
      "3      {'ORIGIN_AIRPORT': 'TPA', 'DESTINATION_AIRPORT...\n",
      "4      {'ORIGIN_AIRPORT': 'ORD', 'DESTINATION_AIRPORT...\n",
      "                             ...                        \n",
      "137    {'ORIGIN_AIRPORT': 'IAH', 'DESTINATION_AIRPORT...\n",
      "138    {'ORIGIN_AIRPORT': 'MSP', 'DESTINATION_AIRPORT...\n",
      "139    {'ORIGIN_AIRPORT': 'ASE', 'DESTINATION_AIRPORT...\n",
      "140    {'ORIGIN_AIRPORT': 'MSY', 'DESTINATION_AIRPORT...\n",
      "141    {'ORIGIN_AIRPORT': 'CLT', 'DESTINATION_AIRPORT...\n",
      "Name: _id, Length: 142, dtype: object\n",
      "\n",
      "\n",
      "\n",
      "Most diverted Route from a source to destination Airport \n",
      " 0    {'ORIGIN_AIRPORT': 'JFK', 'DESTINATION_AIRPORT...\n",
      "1    {'ORIGIN_AIRPORT': 'HOU', 'DESTINATION_AIRPORT...\n",
      "2    {'ORIGIN_AIRPORT': 'IAH', 'DESTINATION_AIRPORT...\n",
      "3    {'ORIGIN_AIRPORT': 'TPA', 'DESTINATION_AIRPORT...\n",
      "4    {'ORIGIN_AIRPORT': 'ORD', 'DESTINATION_AIRPORT...\n",
      "5    {'ORIGIN_AIRPORT': 'CLT', 'DESTINATION_AIRPORT...\n",
      "6    {'ORIGIN_AIRPORT': 'STT', 'DESTINATION_AIRPORT...\n",
      "7    {'ORIGIN_AIRPORT': 'JFK', 'DESTINATION_AIRPORT...\n",
      "8    {'ORIGIN_AIRPORT': 'PHL', 'DESTINATION_AIRPORT...\n",
      "Name: _id, dtype: object\n"
     ]
    }
   ],
   "source": [
    "    diverted_route=collection.aggregate([{'$match':{'DIVERTED':1}},\n",
    "                                         {'$group' :{'_id' : {'ORIGIN_AIRPORT':'$ORIGIN_AIRPORT',\"DESTINATION_AIRPORT\":'$DESTINATION_AIRPORT'}, 'count':{'$sum':1}}},\n",
    "                                         {'$sort':{'count':-1}}\n",
    "                                         ]) \n",
    "    df=pd.DataFrame(diverted_route)\n",
    "    print(\"Diverted Route from a source to destination Airport \\n\",df['_id'])\n",
    "    diverted_max=df.get('count').max()\n",
    "    print(\"\\n\\n\")\n",
    "    \n",
    "    print(\"Most diverted Route from a source to destination Airport \\n\",df[df['count']==diverted_max]['_id'])\n",
    "#     for i in diverted_route:\n",
    "#         print(i)"
   ]
  },
  {
   "cell_type": "code",
   "execution_count": 19,
   "id": "675d3628",
   "metadata": {},
   "outputs": [],
   "source": [
    "#     diverted_route=collection.find({'DIVERTED':1},{\"_id\":0,\"ORIGIN_AIRPORT\":1,'DESTINATION_AIRPORT':1})\n",
    "#     df=pd.DataFrame(diverted_route)\n",
    "#     diverted_routes=df.groupby(['ORIGIN_AIRPORT','DESTINATION_AIRPORT']).value_counts()\n",
    "#     print(diverted_routes.sort_values(ascending=False))\n",
    "\n"
   ]
  },
  {
   "cell_type": "markdown",
   "id": "3e809cd0",
   "metadata": {},
   "source": [
    "#### o.When is the best time of day/day of week/time of a year to fly with minimum delays?"
   ]
  },
  {
   "cell_type": "code",
   "execution_count": 20,
   "id": "b84d0e29",
   "metadata": {},
   "outputs": [
    {
     "name": "stdout",
     "output_type": "stream",
     "text": [
      "{'_id': {'day': 27, 'month': 1, 'year': 2015, 'week': 2}, 'depart_avg_delay': -0.5395348837209303}\n",
      "{'_id': {'day': 7, 'month': 2, 'year': 2015, 'week': 6}, 'arrival_avg_delay': -7.379765395894428}\n"
     ]
    }
   ],
   "source": [
    "    min_depart_busy=collection.aggregate([\n",
    "                                   {'$group' :{'_id' : {'day':\"$DAY\",'month':\"$MONTH\",'year': \"$YEAR\",'week':\"$DAY_OF_WEEK\",},\n",
    "                                               'depart_avg_delay':{'$avg':'$DEPARTURE_DELAY'}}},\n",
    "                                   {'$sort':{'depart_avg_delay':1}},{'$limit':1}]) \n",
    "    \n",
    "    for i in min_depart_busy:\n",
    "        print(i)\n",
    "    min_arrival_busy=collection.aggregate([\n",
    "                                   {'$group' :{'_id' : {'day':\"$DAY\",'month':\"$MONTH\",'year': \"$YEAR\",'week':\"$DAY_OF_WEEK\",},\n",
    "                                               'arrival_avg_delay':{'$avg':'$ARRIVAL_DELAY'}}},\n",
    "                                   {'$sort':{'arrival_avg_delay':1}},{'$limit':1}])    \n",
    "    for i in min_arrival_busy:\n",
    "        print(i)"
   ]
  },
  {
   "cell_type": "code",
   "execution_count": null,
   "id": "aebce8f6",
   "metadata": {},
   "outputs": [],
   "source": []
  },
  {
   "cell_type": "code",
   "execution_count": null,
   "id": "d2709950",
   "metadata": {},
   "outputs": [],
   "source": [
    "\n"
   ]
  },
  {
   "cell_type": "code",
   "execution_count": null,
   "id": "1610bfd9",
   "metadata": {},
   "outputs": [],
   "source": []
  }
 ],
 "metadata": {
  "kernelspec": {
   "display_name": "Python 3 (ipykernel)",
   "language": "python",
   "name": "python3"
  },
  "language_info": {
   "codemirror_mode": {
    "name": "ipython",
    "version": 3
   },
   "file_extension": ".py",
   "mimetype": "text/x-python",
   "name": "python",
   "nbconvert_exporter": "python",
   "pygments_lexer": "ipython3",
   "version": "3.9.12"
  }
 },
 "nbformat": 4,
 "nbformat_minor": 5
}
