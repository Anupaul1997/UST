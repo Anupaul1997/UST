{
 "cells": [
  {
   "cell_type": "markdown",
   "id": "50e2f173",
   "metadata": {},
   "source": [
    " #### Create a game of Snake, Water Gun using Python."
   ]
  },
  {
   "cell_type": "code",
   "execution_count": 1,
   "id": "6b063067",
   "metadata": {},
   "outputs": [
    {
     "name": "stdout",
     "output_type": "stream",
     "text": [
      "Enter number of turn: 4\n",
      "Enter player1 choice: snake\n",
      "Enter player2 choice: snake\n",
      "Invalid choice Or tie occured\n",
      "Enter player1 choice: water\n",
      "Enter player2 choice: gun\n",
      "player1 wins\n",
      "Enter player1 choice: water\n",
      "Enter player2 choice: snake\n",
      "player2 wins\n",
      "Enter player1 choice: gun\n",
      "Enter player2 choice: water\n",
      "player2 wins\n",
      "Score\n",
      "=======================\n",
      "player1 \tplayer2 \n",
      "1 \t\t 2\n"
     ]
    }
   ],
   "source": [
    "def game(choice1,choice2):\n",
    "    if (choice1==\"snake\" and choice2==\"water\") or (choice1==\"gun\" and choice2==\"snake\") or(choice1==\"water\" and choice2==\"gun\"):\n",
    "        print(\"player1 wins\")\n",
    "        return \"p1\"\n",
    "    elif(choice2==\"snake\" and choice1==\"water\") or (choice2==\"gun\" and choice1==\"snake\") or(choice2==\"water\" and choice1==\"gun\"):\n",
    "        print(\"player2 wins\")\n",
    "        return \"p2\"\n",
    "    else:\n",
    "        print(\"Invalid choice Or tie occured\")\n",
    "        return False\n",
    "    \n",
    "no_turn=int(input(\"Enter number of turn: \"))\n",
    "p1=0\n",
    "p2=0\n",
    "for i in range(no_turn):\n",
    "    choice1=input(\"Enter player1 choice: \").lower()\n",
    "    choice2=input(\"Enter player2 choice: \").lower()\n",
    "    result=game(choice1,choice2)\n",
    "    if (result):\n",
    "        if result==\"p1\":\n",
    "            p1+=1\n",
    "        elif result==\"p2\":\n",
    "            p2+=1\n",
    "    \n",
    "        \n",
    "\n",
    "print(\"Score\")\n",
    "print(\"=======================\")\n",
    "print(\"player1 \\tplayer2 \")\n",
    "print(p1,\"\\t\\t\",p2 )\n",
    "        \n",
    "    "
   ]
  },
  {
   "cell_type": "code",
   "execution_count": null,
   "id": "5e76905d",
   "metadata": {},
   "outputs": [],
   "source": []
  }
 ],
 "metadata": {
  "kernelspec": {
   "display_name": "Python 3 (ipykernel)",
   "language": "python",
   "name": "python3"
  },
  "language_info": {
   "codemirror_mode": {
    "name": "ipython",
    "version": 3
   },
   "file_extension": ".py",
   "mimetype": "text/x-python",
   "name": "python",
   "nbconvert_exporter": "python",
   "pygments_lexer": "ipython3",
   "version": "3.9.12"
  }
 },
 "nbformat": 4,
 "nbformat_minor": 5
}
